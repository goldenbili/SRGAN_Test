{
  "nbformat": 4,
  "nbformat_minor": 0,
  "metadata": {
    "colab": {
      "name": "SRGAN.ipynb",
      "provenance": [],
      "collapsed_sections": []
    },
    "kernelspec": {
      "name": "python3",
      "display_name": "Python 3"
    },
    "accelerator": "GPU"
  },
  "cells": [
    {
      "cell_type": "code",
      "metadata": {
        "id": "GXKRpUah8_uF",
        "colab": {
          "base_uri": "https://localhost:8080/"
        },
        "outputId": "ae4877dc-99ed-4bc5-ac3a-ec079d2ba780"
      },
      "source": [
        "!apt-get install -y -qq software-properties-common python-software-properties module-init-tools\n",
        "!add-apt-repository -y ppa:alessandro-strada/ppa 2>&1 > /dev/null\n",
        "!apt-get update -qq 2>&1 > /dev/null\n",
        "!apt-get -y install -qq google-drive-ocamlfuse fuse\n",
        " \n",
        "from google.colab import auth\n",
        "auth.authenticate_user()\n",
        "from oauth2client.client import GoogleCredentials\n",
        "creds = GoogleCredentials.get_application_default()\n",
        "import getpass\n",
        "!google-drive-ocamlfuse -headless -id={creds.client_id} -secret={creds.client_secret} < /dev/null 2>&1 | grep URL\n",
        "vcode = getpass.getpass()\n",
        "!echo {vcode} | google-drive-ocamlfuse -headless -id={creds.client_id} -secret={creds.client_secret}\n",
        " \n",
        " \n",
        "import datetime\n",
        "import json\n",
        "import os\n",
        "import pprint\n",
        "import random\n",
        "import string\n",
        "import sys\n",
        "import tensorflow as tf"
      ],
      "execution_count": 1,
      "outputs": [
        {
          "output_type": "stream",
          "text": [
            "E: Package 'python-software-properties' has no installation candidate\n",
            "Selecting previously unselected package google-drive-ocamlfuse.\n",
            "(Reading database ... 146442 files and directories currently installed.)\n",
            "Preparing to unpack .../google-drive-ocamlfuse_0.7.24-0ubuntu1~ubuntu18.04.1_amd64.deb ...\n",
            "Unpacking google-drive-ocamlfuse (0.7.24-0ubuntu1~ubuntu18.04.1) ...\n",
            "Setting up google-drive-ocamlfuse (0.7.24-0ubuntu1~ubuntu18.04.1) ...\n",
            "Processing triggers for man-db (2.8.3-2ubuntu0.1) ...\n",
            "Please, open the following URL in a web browser: https://accounts.google.com/o/oauth2/auth?client_id=32555940559.apps.googleusercontent.com&redirect_uri=urn%3Aietf%3Awg%3Aoauth%3A2.0%3Aoob&scope=https%3A%2F%2Fwww.googleapis.com%2Fauth%2Fdrive&response_type=code&access_type=offline&approval_prompt=force\n",
            "··········\n",
            "Please, open the following URL in a web browser: https://accounts.google.com/o/oauth2/auth?client_id=32555940559.apps.googleusercontent.com&redirect_uri=urn%3Aietf%3Awg%3Aoauth%3A2.0%3Aoob&scope=https%3A%2F%2Fwww.googleapis.com%2Fauth%2Fdrive&response_type=code&access_type=offline&approval_prompt=force\n",
            "Please enter the verification code: Access token retrieved correctly.\n"
          ],
          "name": "stdout"
        }
      ]
    },
    {
      "cell_type": "code",
      "metadata": {
        "id": "UkY-4v1ByyXF"
      },
      "source": [
        "# memory footprint support libraries/code\n",
        "!ln -sf /opt/bin/nvidia-smi /usr/bin/nvidia-smi\n",
        "!pip install gputil\n",
        "!pip install psutil\n",
        "!pip install humanize\n",
        "import psutil\n",
        "import humanize\n",
        "import os\n",
        "import GPUtil as GPU\n",
        "GPUs = GPU.getGPUs()\n",
        "# XXX: only one GPU on Colab and isn’t guaranteed\n",
        "gpu = GPUs[0]\n",
        "def printm():\n",
        " process = psutil.Process(os.getpid())\n",
        " print(\"Gen RAM Free: \" + humanize.naturalsize( psutil.virtual_memory().available ), \" | Proc size: \" + humanize.naturalsize( process.memory_info().rss))\n",
        " print(\"GPU RAM Free: {0:.0f}MB | Used: {1:.0f}MB | Util {2:3.0f}% | Total {3:.0f}MB\".format(gpu.memoryFree, gpu.memoryUsed, gpu.memoryUtil*100, gpu.memoryTotal))\n",
        "printm()"
      ],
      "execution_count": null,
      "outputs": []
    },
    {
      "cell_type": "code",
      "metadata": {
        "id": "guVoesClznIc"
      },
      "source": [
        "import numpy as np\n",
        "from keras.layers import Conv2D, MaxPooling2D, AveragePooling2D\n",
        "from keras.layers import Dropout, Flatten, Dense\n",
        "from keras.models import Sequential\n",
        "from keras.layers.advanced_activations import LeakyReLU\n",
        "from keras.datasets import cifar10\n",
        "(train_features, train_labels), (test_features, test_labels) = cifar10.load_data()\n",
        "model = Sequential()\n",
        "\n",
        "model.add(Conv2D(filters=16, kernel_size=(2, 2), padding=\"same\", activation=\"relu\", input_shape=(train_features.shape[1:])))\n",
        "model.add(MaxPooling2D(pool_size=(2, 2), padding='same'))\n",
        "\n",
        "model.add(Conv2D(filters=32, kernel_size=(3, 3), padding=\"same\", activation=\"relu\"))\n",
        "model.add(MaxPooling2D(pool_size=(2, 2), padding='same'))\n",
        "\n",
        "model.add(Conv2D(filters=64, kernel_size=(4, 4), padding=\"same\", activation=\"relu\"))\n",
        "model.add(MaxPooling2D(pool_size=(2, 2), padding='same'))\n",
        "\n",
        "model.add(Flatten())\n",
        "\n",
        "model.add(Dense(25600, activation=\"relu\"))\n",
        "model.add(Dense(25600, activation=\"relu\"))\n",
        "model.add(Dense(25600, activation=\"relu\"))\n",
        "model.add(Dense(25600, activation=\"relu\"))\n",
        "model.add(Dense(10, activation=\"softmax\"))\n",
        "\n",
        "model.compile(optimizer='adam', loss='sparse_categorical_crossentropy', metrics=['accuracy'])\n",
        "\n",
        "model.fit(train_features, train_labels, validation_split=0.2, epochs=10, batch_size=128, verbose=1)"
      ],
      "execution_count": null,
      "outputs": []
    },
    {
      "cell_type": "code",
      "metadata": {
        "id": "6FbTwfyTy71D"
      },
      "source": [
        "!ps ax | grep python"
      ],
      "execution_count": null,
      "outputs": []
    },
    {
      "cell_type": "code",
      "metadata": {
        "id": "CtmF7D_N-8yG"
      },
      "source": [
        "!nvidia-smi"
      ],
      "execution_count": null,
      "outputs": []
    },
    {
      "cell_type": "code",
      "metadata": {
        "id": "ZXm1ao7cYHru"
      },
      "source": [
        "!kill -9 -1"
      ],
      "execution_count": null,
      "outputs": []
    },
    {
      "cell_type": "code",
      "metadata": {
        "id": "5SO8PBsJcsJ6",
        "colab": {
          "base_uri": "https://localhost:8080/"
        },
        "outputId": "ec015619-17e8-4ccb-e92b-63dbc7ea93c6"
      },
      "source": [
        "# Load the Drive helper and mount\n",
        "from google.colab import drive\n",
        "# This will prompt for authorization.\n",
        "drive.mount('/content/drive')"
      ],
      "execution_count": 2,
      "outputs": [
        {
          "output_type": "stream",
          "text": [
            "Mounted at /content/drive\n"
          ],
          "name": "stdout"
        }
      ]
    },
    {
      "cell_type": "code",
      "metadata": {
        "id": "P5yq58XEAxVQ"
      },
      "source": [
        "import sys\n",
        "\n",
        "!test -d SRGAN || git clone https://github.com/leftthomas/SRGAN\n",
        "if not 'SRGAN' in sys.path:\n",
        "  sys.path += ['SRGAN']\n",
        "%cd SRGAN/\n",
        "!pwd  "
      ],
      "execution_count": null,
      "outputs": []
    },
    {
      "cell_type": "code",
      "metadata": {
        "id": "_sx63VPiVHT-",
        "colab": {
          "base_uri": "https://localhost:8080/"
        },
        "outputId": "6ef52924-9510-4059-ac74-8f6a25c360db"
      },
      "source": [
        "import sys\n",
        "\n",
        "!test -d SRGAN_Test || git clone https://github.com/goldenbili/SRGAN_Test.git\n",
        "if not 'SRGAN_Test' in sys.path:\n",
        "  sys.path += ['SRGAN_Test']\n",
        "%cd SRGAN_Test/\n",
        "!pwd  "
      ],
      "execution_count": 3,
      "outputs": [
        {
          "output_type": "stream",
          "text": [
            "Cloning into 'SRGAN_Test'...\n",
            "remote: Enumerating objects: 3, done.\u001b[K\n",
            "remote: Counting objects: 100% (3/3), done.\u001b[K\n",
            "remote: Compressing objects: 100% (3/3), done.\u001b[K\n",
            "remote: Total 155 (delta 0), reused 0 (delta 0), pack-reused 152\u001b[K\n",
            "Receiving objects: 100% (155/155), 84.45 KiB | 10.56 MiB/s, done.\n",
            "Resolving deltas: 100% (80/80), done.\n",
            "/content/SRGAN_Test\n",
            "/content/SRGAN_Test\n"
          ],
          "name": "stdout"
        }
      ]
    },
    {
      "cell_type": "code",
      "metadata": {
        "id": "BDRTN4ZlBpEd"
      },
      "source": [
        "!wget http://data.vision.ee.ethz.ch/cvl/DIV2K/DIV2K_train_HR.zip\n",
        "!wget http://data.vision.ee.ethz.ch/cvl/DIV2K/DIV2K_valid_HR.zip\n",
        "!unzip -q DIV2K_train_HR.zip -d data\n",
        "!unzip -q DIV2K_valid_HR.zip -d data\n",
        "!rm DIV2K_train_HR.zip\n",
        "!rm DIV2K_valid_HR.zip"
      ],
      "execution_count": null,
      "outputs": []
    },
    {
      "cell_type": "markdown",
      "metadata": {
        "id": "Km02Cbk71Ryd"
      },
      "source": [
        "臨時操作 - 複製下載的訓練資料到 google 雲端"
      ]
    },
    {
      "cell_type": "code",
      "metadata": {
        "id": "A7XOpIRkznmZ"
      },
      "source": [
        "!cp -r data/DIV2K_train_HR /content/drive/MyDrive/SRGAN/data/DIV2K_train_HR\n",
        "!cp -r data/DIV2K_valid_HR /content/drive/MyDrive/SRGAN/data/DIV2K_valid_HR"
      ],
      "execution_count": null,
      "outputs": []
    },
    {
      "cell_type": "markdown",
      "metadata": {
        "id": "g0X95dB-t07s"
      },
      "source": [
        "常數設定"
      ]
    },
    {
      "cell_type": "code",
      "metadata": {
        "id": "eUyO2qBfc65g"
      },
      "source": [
        "Path_drive_Base = \"/content/drive/MyDrive/SRGAN/\"\n",
        "Path_data_Base = Path_drive_Base + \"data/\"\n",
        "Path_dataInput_Base = \"/content/SRGAN_Test/data/\"\n",
        "# Path_data_Base = \"/content/SRGAN_Test/data/\"\n",
        "Path_snapshot = Path_drive_Base + \"snapshots/\"\n",
        "Gan_model = 'netG_epoch_8.pth' \n",
        "Dis_model = 'netD_epoch_8.pth'"
      ],
      "execution_count": 4,
      "outputs": []
    },
    {
      "cell_type": "code",
      "metadata": {
        "id": "TMWPXsQjAns_"
      },
      "source": [
        "!mkdir data"
      ],
      "execution_count": 5,
      "outputs": []
    },
    {
      "cell_type": "code",
      "metadata": {
        "id": "9ugt6-y3r9tR",
        "outputId": "1f88d34a-f362-4372-d013-b5c29362f4d5",
        "colab": {
          "base_uri": "https://localhost:8080/"
        }
      },
      "source": [
        "Sub_Train = \"01**\" #@param {type:\"string\"}\n",
        "Sub_Valid = \"080*\" #@param {type:\"string\"}\n",
        "Source_Train = Path_data_Base + \"DIV2K_train_HR/\" + Sub_Train + \".png\"\n",
        "Source_Valid = Path_data_Base + \"DIV2K_valid_HR/\" + Sub_Valid + \".png\"\n",
        "\n",
        "\n",
        "Path_train = Path_dataInput_Base + \"DIV2K_train_\" + Sub_Train\n",
        "Path_valid = Path_dataInput_Base + \"DIV2K_valid_\" + Sub_Valid\n",
        "!mkdir $Path_train\n",
        "!mkdir $Path_valid\n",
        "\n",
        "Path_train = Path_train + \"/\"\n",
        "!cp $Source_Train $Path_train\n",
        "\n",
        "Path_valid = Path_valid + \"/\"\n",
        "!cp $Source_Valid $Path_valid\n",
        "\n",
        "# Init Date time\n",
        "from datetime import datetime\n",
        "now = datetime.now()\n",
        "Time_Info = datetime.strftime(now,'%Y-%m-%d_%H:%M:%S') \n",
        "\n",
        "trainPath = Path_drive_Base + \"training_results/Train_\"+ Sub_Train + \"_Valid_\" + Sub_Valid\n",
        "!mkdir $trainPath\n",
        "trainPath = trainPath + '/' + datetime.strftime(now,'%Y-%m-%d_%H:%M:%S')\n",
        "!mkdir $trainPath\n",
        "trainPath = trainPath + '/'\n",
        "\n",
        "statisticsPath = Path_drive_Base + \"statistics/Train_\"+ Sub_Train + \"_Valid_\" + Sub_Valid\n",
        "!mkdir $statisticsPath\n",
        "statisticsPath = statisticsPath + '/' + datetime.strftime(now,'%Y-%m-%d_%H:%M:%S')\n",
        "!mkdir $statisticsPath\n",
        "statisticsPath = statisticsPath + '/'"
      ],
      "execution_count": 6,
      "outputs": [
        {
          "output_type": "stream",
          "text": [
            "mkdir: cannot create directory ‘/content/drive/MyDrive/SRGAN/training_results/Train_01**_Valid_080*’: File exists\n",
            "mkdir: cannot create directory ‘/content/drive/MyDrive/SRGAN/statistics/Train_01**_Valid_080*’: File exists\n"
          ],
          "name": "stdout"
        }
      ]
    },
    {
      "cell_type": "code",
      "metadata": {
        "id": "1EQdF0XREXzy"
      },
      "source": [
        "!cp ../drive/My\\ Drive/SRGAN/DIV2K_train_HR.zip ./data/\n",
        "!cp ../drive/My\\ Drive/SRGAN/DIV2K_valid_HR.zip ./data/\n",
        "!unzip -q ./data/DIV2K_train_HR.zip -d data\n",
        "!unzip -q ./data/DIV2K_valid_HR.zip -d data\n",
        "!rm ./data/DIV2K_train_HR.zip\n",
        "!rm ./data/DIV2K_valid_HR.zip"
      ],
      "execution_count": null,
      "outputs": []
    },
    {
      "cell_type": "code",
      "metadata": {
        "id": "ZC6CO2eeF0es"
      },
      "source": [
        "!python -c \"import torch; print(torch.__version__)\""
      ],
      "execution_count": null,
      "outputs": []
    },
    {
      "cell_type": "code",
      "metadata": {
        "id": "P5vAqPepIrIi"
      },
      "source": [
        "!python -c \"import torchvision; print(torchvision.__version__)\""
      ],
      "execution_count": null,
      "outputs": []
    },
    {
      "cell_type": "code",
      "metadata": {
        "id": "Gunmjw5QLaPS"
      },
      "source": [
        "!pip install torchvision==0.7"
      ],
      "execution_count": null,
      "outputs": []
    },
    {
      "cell_type": "code",
      "metadata": {
        "id": "8fJ53TKWKeTC",
        "colab": {
          "base_uri": "https://localhost:8080/"
        },
        "outputId": "1c3d9197-694a-410b-9cdc-d38c08fcb56d"
      },
      "source": [
        "!pip install torch==1.6"
      ],
      "execution_count": null,
      "outputs": [
        {
          "output_type": "stream",
          "text": [
            "Requirement already satisfied: torch==1.4 in /usr/local/lib/python3.6/dist-packages (1.4.0)\n"
          ],
          "name": "stdout"
        }
      ]
    },
    {
      "cell_type": "code",
      "metadata": {
        "id": "_AjuBpzIuJ5Q"
      },
      "source": [
        "!pip install cudatoolkit=10.1"
      ],
      "execution_count": null,
      "outputs": []
    },
    {
      "cell_type": "code",
      "metadata": {
        "id": "TDgDNUJ0GfJ0"
      },
      "source": [
        "! python train.py \\\n",
        "  --num_epochs=5 \\\n",
        "  --use_cuda=1 \\\n",
        "  --batch_size=1 \\\n",
        "  --snapshots_folder=$Path_snapshot \\\n",
        "  --snapshots_Gan=$Gan_model \\\n",
        "  --snapshots_Dis=$Dis_model \\\n",
        "  --train_path=$Path_train \\\n",
        "  --valid_path=$Path_valid \\\n",
        "  --statistics=path $statisticsPath/ \\\n",
        "  --epochs_path=$trainPath/ \\\n",
        "  --willy_test=0 \\\n",
        "  --do_resize=1"
      ],
      "execution_count": null,
      "outputs": []
    },
    {
      "cell_type": "code",
      "metadata": {
        "id": "woCKFvAcAggI",
        "outputId": "ee38c725-1240-4a0f-ae31-5d0d1aa89f8f",
        "colab": {
          "base_uri": "https://localhost:8080/"
        }
      },
      "source": [
        "    print('$Path_snapshot:')\n",
        "    print(Path_snapshot)\n",
        "    print('$Gan_model')\n",
        "    print(Gan_model)\n",
        "    print('$Dis_model')\n",
        "    print(Dis_model)\n",
        "    print('$Path_train')\n",
        "    print(Path_train)\n",
        "    print('$Path_valid')\n",
        "    print(Path_valid)\n",
        "    print('$statisticsPath:')\n",
        "    print(statisticsPath)\n",
        "    print('$trainPath:')\n",
        "    print(trainPath)"
      ],
      "execution_count": 7,
      "outputs": [
        {
          "output_type": "stream",
          "text": [
            "$Path_snapshot:\n",
            "/content/drive/MyDrive/SRGAN/snapshots/\n",
            "$Gan_model\n",
            "netG_epoch_8.pth\n",
            "$Dis_model\n",
            "netD_epoch_8.pth\n",
            "$Path_train\n",
            "/content/SRGAN_Test/data/DIV2K_train_01**/\n",
            "$Path_valid\n",
            "/content/SRGAN_Test/data/DIV2K_valid_080*/\n",
            "$statisticsPath:\n",
            "/content/drive/MyDrive/SRGAN/statistics/Train_01**_Valid_080*/2021-02-23_05:10:40/\n",
            "$trainPath:\n",
            "/content/drive/MyDrive/SRGAN/training_results/Train_01**_Valid_080*/2021-02-23_05:10:40/\n"
          ],
          "name": "stdout"
        }
      ]
    },
    {
      "cell_type": "code",
      "metadata": {
        "id": "74_6uz0y32Aw",
        "outputId": "a96a3023-934b-4cb2-ea40-2933900128f4",
        "colab": {
          "base_uri": "https://localhost:8080/"
        }
      },
      "source": [
        "! python train.py \\\n",
        "  --num_epochs 5 \\\n",
        "  --use_cuda 1 \\\n",
        "  --batch_size 1 \\\n",
        "  --snapshots_folder $Path_snapshot \\\n",
        "  --snapshots_Gan $Gan_model \\\n",
        "  --snapshots_Dis $Dis_model \\\n",
        "  --train_path $Path_train \\\n",
        "  --valid_path $Path_valid \\\n",
        "  --statistics_path $statisticsPath/ \\\n",
        "  --epochs_path $trainPath/ \\\n",
        "  --willy_test 0 \\\n",
        "  --do_resize 1"
      ],
      "execution_count": null,
      "outputs": [
        {
          "output_type": "stream",
          "text": [
            "$Path_snapshot:\n",
            "/content/drive/MyDrive/SRGAN/snapshots/\n",
            "$Gan_model\n",
            "netG_epoch_8.pth\n",
            "$Dis_model\n",
            "netD_epoch_8.pth\n",
            "$Path_train\n",
            "/content/SRGAN_Test/data/DIV2K_train_01**/\n",
            "$Path_valid\n",
            "/content/SRGAN_Test/data/DIV2K_valid_080*/\n",
            "$statisticsPath:\n",
            "/content/drive/MyDrive/SRGAN/statistics/Train_01**_Valid_080*/2021-02-23_05:10:40/\n",
            "$traininPath:\n",
            "/content/drive/MyDrive/SRGAN/training_results/Train_01**_Valid_080*/2021-02-23_05:10:40/\n",
            "Downloading: \"https://download.pytorch.org/models/vgg16-397923af.pth\" to /root/.cache/torch/hub/checkpoints/vgg16-397923af.pth\n",
            "100% 528M/528M [00:07<00:00, 74.7MB/s]\n",
            "  0% 0/100 [00:00<?, ?it/s]"
          ],
          "name": "stdout"
        }
      ]
    },
    {
      "cell_type": "code",
      "metadata": {
        "id": "CjnhXm_O_Orm"
      },
      "source": [
        "!cp -R ./epochs/ ../drive/My\\ Drive/"
      ],
      "execution_count": null,
      "outputs": []
    },
    {
      "cell_type": "code",
      "metadata": {
        "id": "J_3OnrRRAGY8"
      },
      "source": [
        "!cp -R ./training_results ../drive/My\\ Drive/"
      ],
      "execution_count": null,
      "outputs": []
    },
    {
      "cell_type": "code",
      "metadata": {
        "id": "QEbQ4DAFG0cl"
      },
      "source": [
        "!cp -R ./training_results ../drive/My\\ Drive/"
      ],
      "execution_count": null,
      "outputs": []
    },
    {
      "cell_type": "code",
      "metadata": {
        "id": "F4-3f1WlC_X4"
      },
      "source": [
        "!rm *.bmp"
      ],
      "execution_count": null,
      "outputs": []
    }
  ]
}